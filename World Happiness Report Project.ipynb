{
 "cells": [
  {
   "cell_type": "markdown",
   "id": "5f6b637e",
   "metadata": {},
   "source": [
    "World Happiness Report Project"
   ]
  },
  {
   "cell_type": "markdown",
   "id": "62e5abbb",
   "metadata": {},
   "source": [
    "Project Description\n",
    "\n",
    "The World Happiness Report is a landmark survey of the state of global happiness. The first report was published in 2012, the second in 2013, the third in 2015, and the fourth in the 2016 Update. The World Happiness 2017, which ranks 155 countries by their happiness levels, was released at the United Nations at an event celebrating International Day of Happiness on March 20th. The report continues to gain global recognition as governments, organizations and civil society increasingly use happiness indicators to inform their policy-making decisions. Leading experts across fields – economics, psychology, survey analysis, national statistics, health, public policy and more – describe how measurements of well-being can be used effectively to assess the progress of nations. The reports review the state of happiness in the world today and show how the new science of happiness explains personal and national variations in happiness.\n",
    "\n",
    "What is Dystopia?\n",
    "\n",
    "Dystopia is an imaginary country that has the world’s least-happy people. The purpose in establishing Dystopia is to have a benchmark against which all countries can be favorably compared (no country performs more poorly than Dystopia) in terms of each of the six key variables, thus allowing each sub-bar to be of positive width. The lowest scores observed for the six key variables, therefore, characterize Dystopia. Since life would be very unpleasant in a country with the world’s lowest incomes, lowest life expectancy, lowest generosity, most corruption, least freedom and least social support, it is referred to as “Dystopia,” in contrast to Utopia.\n",
    "\n",
    "What are the residuals?\n",
    "\n",
    "The residuals, or unexplained components, differ for each country, reflecting the extent to which the six variables either over- or under-explain average life evaluations. These residuals have an average value of approximately zero over the whole set of countries. \n",
    "\n",
    "What do the columns succeeding the Happiness Score(like Family, Generosity, etc.) describe?\n",
    "The following columns: GDP per Capita, Family, Life Expectancy, Freedom, Generosity, Trust Government Corruption describe the extent to which these factors contribute in evaluating the happiness in each country.\n",
    "The Dystopia Residual metric actually is the Dystopia Happiness Score(1.85) + the Residual value or the unexplained value for each country.\n",
    "\n",
    "The Dystopia Residual is already provided in the dataset. \n",
    "If you add all these factors up, you get the happiness score so it might be un-reliable to model them to predict Happiness Scores.\n",
    "\n",
    "You need to predict the happiness score considering all the other factors mentioned in the dataset.\n",
    "\n",
    "Dataset Link-https://github.com/FlipRoboTechnologies/ML-Datasets/blob/main/World%20Happiness/happiness_score_dataset.csv"
   ]
  },
  {
   "cell_type": "code",
   "execution_count": null,
   "id": "308a7f28",
   "metadata": {},
   "outputs": [],
   "source": []
  },
  {
   "cell_type": "markdown",
   "id": "91388cc7",
   "metadata": {},
   "source": [
    "Statement Problem:To predict the happiness score of a country based on some key variables like GDP per Capita, Family, Life Expectancy, Freedom, Generosity, Trust Government Corruption."
   ]
  },
  {
   "cell_type": "code",
   "execution_count": 1,
   "id": "142bb324",
   "metadata": {},
   "outputs": [
    {
     "name": "stdout",
     "output_type": "stream",
     "text": [
      "Requirement already satisfied: scipy in c:\\users\\pc\\anaconda3\\lib\\site-packages (1.10.1)\n",
      "Requirement already satisfied: numpy<1.27.0,>=1.19.5 in c:\\users\\pc\\anaconda3\\lib\\site-packages (from scipy) (1.24.3)\n"
     ]
    }
   ],
   "source": [
    "import numpy as np\n",
    "import pandas as pd\n",
    "import seaborn as sns\n",
    "import matplotlib.pyplot as plt\n",
    "%matplotlib inline\n",
    "from pandas.plotting import scatter_matrix\n",
    "!pip install scipy\n",
    "from sklearn.preprocessing import OrdinalEncoder\n",
    "from sklearn import linear_model\n",
    "from sklearn.linear_model import LinearRegression\n",
    "from sklearn.metrics import mean_absolute_error\n",
    "from sklearn.metrics import mean_squared_error\n",
    "from sklearn.metrics import r2_score\n",
    "\n",
    "import warnings\n",
    "warnings.filterwarnings (\"ignore\")"
   ]
  },
  {
   "cell_type": "code",
   "execution_count": 2,
   "id": "55762e84",
   "metadata": {},
   "outputs": [],
   "source": [
    "world_hap=pd.read_csv(r\"https://github.com/FlipRoboTechnologies/ML-Datasets/raw/main/World%20Happiness/happiness_score_dataset.csv\")"
   ]
  },
  {
   "cell_type": "code",
   "execution_count": 3,
   "id": "911faf76",
   "metadata": {},
   "outputs": [
    {
     "data": {
      "text/html": [
       "<div>\n",
       "<style scoped>\n",
       "    .dataframe tbody tr th:only-of-type {\n",
       "        vertical-align: middle;\n",
       "    }\n",
       "\n",
       "    .dataframe tbody tr th {\n",
       "        vertical-align: top;\n",
       "    }\n",
       "\n",
       "    .dataframe thead th {\n",
       "        text-align: right;\n",
       "    }\n",
       "</style>\n",
       "<table border=\"1\" class=\"dataframe\">\n",
       "  <thead>\n",
       "    <tr style=\"text-align: right;\">\n",
       "      <th></th>\n",
       "      <th>Country</th>\n",
       "      <th>Region</th>\n",
       "      <th>Happiness Rank</th>\n",
       "      <th>Happiness Score</th>\n",
       "      <th>Standard Error</th>\n",
       "      <th>Economy (GDP per Capita)</th>\n",
       "      <th>Family</th>\n",
       "      <th>Health (Life Expectancy)</th>\n",
       "      <th>Freedom</th>\n",
       "      <th>Trust (Government Corruption)</th>\n",
       "      <th>Generosity</th>\n",
       "      <th>Dystopia Residual</th>\n",
       "    </tr>\n",
       "  </thead>\n",
       "  <tbody>\n",
       "    <tr>\n",
       "      <th>0</th>\n",
       "      <td>Switzerland</td>\n",
       "      <td>Western Europe</td>\n",
       "      <td>1</td>\n",
       "      <td>7.587</td>\n",
       "      <td>0.03411</td>\n",
       "      <td>1.39651</td>\n",
       "      <td>1.34951</td>\n",
       "      <td>0.94143</td>\n",
       "      <td>0.66557</td>\n",
       "      <td>0.41978</td>\n",
       "      <td>0.29678</td>\n",
       "      <td>2.51738</td>\n",
       "    </tr>\n",
       "    <tr>\n",
       "      <th>1</th>\n",
       "      <td>Iceland</td>\n",
       "      <td>Western Europe</td>\n",
       "      <td>2</td>\n",
       "      <td>7.561</td>\n",
       "      <td>0.04884</td>\n",
       "      <td>1.30232</td>\n",
       "      <td>1.40223</td>\n",
       "      <td>0.94784</td>\n",
       "      <td>0.62877</td>\n",
       "      <td>0.14145</td>\n",
       "      <td>0.43630</td>\n",
       "      <td>2.70201</td>\n",
       "    </tr>\n",
       "    <tr>\n",
       "      <th>2</th>\n",
       "      <td>Denmark</td>\n",
       "      <td>Western Europe</td>\n",
       "      <td>3</td>\n",
       "      <td>7.527</td>\n",
       "      <td>0.03328</td>\n",
       "      <td>1.32548</td>\n",
       "      <td>1.36058</td>\n",
       "      <td>0.87464</td>\n",
       "      <td>0.64938</td>\n",
       "      <td>0.48357</td>\n",
       "      <td>0.34139</td>\n",
       "      <td>2.49204</td>\n",
       "    </tr>\n",
       "    <tr>\n",
       "      <th>3</th>\n",
       "      <td>Norway</td>\n",
       "      <td>Western Europe</td>\n",
       "      <td>4</td>\n",
       "      <td>7.522</td>\n",
       "      <td>0.03880</td>\n",
       "      <td>1.45900</td>\n",
       "      <td>1.33095</td>\n",
       "      <td>0.88521</td>\n",
       "      <td>0.66973</td>\n",
       "      <td>0.36503</td>\n",
       "      <td>0.34699</td>\n",
       "      <td>2.46531</td>\n",
       "    </tr>\n",
       "    <tr>\n",
       "      <th>4</th>\n",
       "      <td>Canada</td>\n",
       "      <td>North America</td>\n",
       "      <td>5</td>\n",
       "      <td>7.427</td>\n",
       "      <td>0.03553</td>\n",
       "      <td>1.32629</td>\n",
       "      <td>1.32261</td>\n",
       "      <td>0.90563</td>\n",
       "      <td>0.63297</td>\n",
       "      <td>0.32957</td>\n",
       "      <td>0.45811</td>\n",
       "      <td>2.45176</td>\n",
       "    </tr>\n",
       "    <tr>\n",
       "      <th>...</th>\n",
       "      <td>...</td>\n",
       "      <td>...</td>\n",
       "      <td>...</td>\n",
       "      <td>...</td>\n",
       "      <td>...</td>\n",
       "      <td>...</td>\n",
       "      <td>...</td>\n",
       "      <td>...</td>\n",
       "      <td>...</td>\n",
       "      <td>...</td>\n",
       "      <td>...</td>\n",
       "      <td>...</td>\n",
       "    </tr>\n",
       "    <tr>\n",
       "      <th>153</th>\n",
       "      <td>Rwanda</td>\n",
       "      <td>Sub-Saharan Africa</td>\n",
       "      <td>154</td>\n",
       "      <td>3.465</td>\n",
       "      <td>0.03464</td>\n",
       "      <td>0.22208</td>\n",
       "      <td>0.77370</td>\n",
       "      <td>0.42864</td>\n",
       "      <td>0.59201</td>\n",
       "      <td>0.55191</td>\n",
       "      <td>0.22628</td>\n",
       "      <td>0.67042</td>\n",
       "    </tr>\n",
       "    <tr>\n",
       "      <th>154</th>\n",
       "      <td>Benin</td>\n",
       "      <td>Sub-Saharan Africa</td>\n",
       "      <td>155</td>\n",
       "      <td>3.340</td>\n",
       "      <td>0.03656</td>\n",
       "      <td>0.28665</td>\n",
       "      <td>0.35386</td>\n",
       "      <td>0.31910</td>\n",
       "      <td>0.48450</td>\n",
       "      <td>0.08010</td>\n",
       "      <td>0.18260</td>\n",
       "      <td>1.63328</td>\n",
       "    </tr>\n",
       "    <tr>\n",
       "      <th>155</th>\n",
       "      <td>Syria</td>\n",
       "      <td>Middle East and Northern Africa</td>\n",
       "      <td>156</td>\n",
       "      <td>3.006</td>\n",
       "      <td>0.05015</td>\n",
       "      <td>0.66320</td>\n",
       "      <td>0.47489</td>\n",
       "      <td>0.72193</td>\n",
       "      <td>0.15684</td>\n",
       "      <td>0.18906</td>\n",
       "      <td>0.47179</td>\n",
       "      <td>0.32858</td>\n",
       "    </tr>\n",
       "    <tr>\n",
       "      <th>156</th>\n",
       "      <td>Burundi</td>\n",
       "      <td>Sub-Saharan Africa</td>\n",
       "      <td>157</td>\n",
       "      <td>2.905</td>\n",
       "      <td>0.08658</td>\n",
       "      <td>0.01530</td>\n",
       "      <td>0.41587</td>\n",
       "      <td>0.22396</td>\n",
       "      <td>0.11850</td>\n",
       "      <td>0.10062</td>\n",
       "      <td>0.19727</td>\n",
       "      <td>1.83302</td>\n",
       "    </tr>\n",
       "    <tr>\n",
       "      <th>157</th>\n",
       "      <td>Togo</td>\n",
       "      <td>Sub-Saharan Africa</td>\n",
       "      <td>158</td>\n",
       "      <td>2.839</td>\n",
       "      <td>0.06727</td>\n",
       "      <td>0.20868</td>\n",
       "      <td>0.13995</td>\n",
       "      <td>0.28443</td>\n",
       "      <td>0.36453</td>\n",
       "      <td>0.10731</td>\n",
       "      <td>0.16681</td>\n",
       "      <td>1.56726</td>\n",
       "    </tr>\n",
       "  </tbody>\n",
       "</table>\n",
       "<p>158 rows × 12 columns</p>\n",
       "</div>"
      ],
      "text/plain": [
       "         Country                           Region  Happiness Rank  \\\n",
       "0    Switzerland                   Western Europe               1   \n",
       "1        Iceland                   Western Europe               2   \n",
       "2        Denmark                   Western Europe               3   \n",
       "3         Norway                   Western Europe               4   \n",
       "4         Canada                    North America               5   \n",
       "..           ...                              ...             ...   \n",
       "153       Rwanda               Sub-Saharan Africa             154   \n",
       "154        Benin               Sub-Saharan Africa             155   \n",
       "155        Syria  Middle East and Northern Africa             156   \n",
       "156      Burundi               Sub-Saharan Africa             157   \n",
       "157         Togo               Sub-Saharan Africa             158   \n",
       "\n",
       "     Happiness Score  Standard Error  Economy (GDP per Capita)   Family  \\\n",
       "0              7.587         0.03411                   1.39651  1.34951   \n",
       "1              7.561         0.04884                   1.30232  1.40223   \n",
       "2              7.527         0.03328                   1.32548  1.36058   \n",
       "3              7.522         0.03880                   1.45900  1.33095   \n",
       "4              7.427         0.03553                   1.32629  1.32261   \n",
       "..               ...             ...                       ...      ...   \n",
       "153            3.465         0.03464                   0.22208  0.77370   \n",
       "154            3.340         0.03656                   0.28665  0.35386   \n",
       "155            3.006         0.05015                   0.66320  0.47489   \n",
       "156            2.905         0.08658                   0.01530  0.41587   \n",
       "157            2.839         0.06727                   0.20868  0.13995   \n",
       "\n",
       "     Health (Life Expectancy)  Freedom  Trust (Government Corruption)  \\\n",
       "0                     0.94143  0.66557                        0.41978   \n",
       "1                     0.94784  0.62877                        0.14145   \n",
       "2                     0.87464  0.64938                        0.48357   \n",
       "3                     0.88521  0.66973                        0.36503   \n",
       "4                     0.90563  0.63297                        0.32957   \n",
       "..                        ...      ...                            ...   \n",
       "153                   0.42864  0.59201                        0.55191   \n",
       "154                   0.31910  0.48450                        0.08010   \n",
       "155                   0.72193  0.15684                        0.18906   \n",
       "156                   0.22396  0.11850                        0.10062   \n",
       "157                   0.28443  0.36453                        0.10731   \n",
       "\n",
       "     Generosity  Dystopia Residual  \n",
       "0       0.29678            2.51738  \n",
       "1       0.43630            2.70201  \n",
       "2       0.34139            2.49204  \n",
       "3       0.34699            2.46531  \n",
       "4       0.45811            2.45176  \n",
       "..          ...                ...  \n",
       "153     0.22628            0.67042  \n",
       "154     0.18260            1.63328  \n",
       "155     0.47179            0.32858  \n",
       "156     0.19727            1.83302  \n",
       "157     0.16681            1.56726  \n",
       "\n",
       "[158 rows x 12 columns]"
      ]
     },
     "execution_count": 3,
     "metadata": {},
     "output_type": "execute_result"
    }
   ],
   "source": [
    "world_hap"
   ]
  },
  {
   "cell_type": "code",
   "execution_count": 4,
   "id": "fabef955",
   "metadata": {},
   "outputs": [
    {
     "data": {
      "text/plain": [
       "Index(['Country', 'Region', 'Happiness Rank', 'Happiness Score',\n",
       "       'Standard Error', 'Economy (GDP per Capita)', 'Family',\n",
       "       'Health (Life Expectancy)', 'Freedom', 'Trust (Government Corruption)',\n",
       "       'Generosity', 'Dystopia Residual'],\n",
       "      dtype='object')"
      ]
     },
     "execution_count": 4,
     "metadata": {},
     "output_type": "execute_result"
    }
   ],
   "source": [
    "#Columns present in the dataset \n",
    "world_hap.columns"
   ]
  },
  {
   "cell_type": "markdown",
   "id": "ef8099d8",
   "metadata": {},
   "source": [
    "# Data Exploratory Analysis"
   ]
  },
  {
   "cell_type": "code",
   "execution_count": 5,
   "id": "840d59ce",
   "metadata": {},
   "outputs": [
    {
     "data": {
      "text/plain": [
       "(158, 12)"
      ]
     },
     "execution_count": 5,
     "metadata": {},
     "output_type": "execute_result"
    }
   ],
   "source": [
    "#shape of the Data\n",
    "world_hap.shape"
   ]
  },
  {
   "cell_type": "markdown",
   "id": "a93869c4",
   "metadata": {},
   "source": [
    "Observation:\n",
    "\n",
    "This dataset contain the Happiness ranking of 158 Countries which have both numerical and categorical datas. There are 158 samples in the dataset with 12 columns of which 1 of it is a target variable ('Happiness Score')."
   ]
  },
  {
   "cell_type": "code",
   "execution_count": 6,
   "id": "0e522950",
   "metadata": {},
   "outputs": [
    {
     "name": "stdout",
     "output_type": "stream",
     "text": [
      "<class 'pandas.core.frame.DataFrame'>\n",
      "RangeIndex: 158 entries, 0 to 157\n",
      "Data columns (total 12 columns):\n",
      " #   Column                         Non-Null Count  Dtype  \n",
      "---  ------                         --------------  -----  \n",
      " 0   Country                        158 non-null    object \n",
      " 1   Region                         158 non-null    object \n",
      " 2   Happiness Rank                 158 non-null    int64  \n",
      " 3   Happiness Score                158 non-null    float64\n",
      " 4   Standard Error                 158 non-null    float64\n",
      " 5   Economy (GDP per Capita)       158 non-null    float64\n",
      " 6   Family                         158 non-null    float64\n",
      " 7   Health (Life Expectancy)       158 non-null    float64\n",
      " 8   Freedom                        158 non-null    float64\n",
      " 9   Trust (Government Corruption)  158 non-null    float64\n",
      " 10  Generosity                     158 non-null    float64\n",
      " 11  Dystopia Residual              158 non-null    float64\n",
      "dtypes: float64(9), int64(1), object(2)\n",
      "memory usage: 14.9+ KB\n"
     ]
    }
   ],
   "source": [
    "# Checking the column information\n",
    "world_hap.info()"
   ]
  },
  {
   "cell_type": "markdown",
   "id": "660d8925",
   "metadata": {},
   "source": [
    "Observation:\n",
    "\n",
    "The columns have different data types made up of 9 are floats Dtypes, 1 is an integer, and 2 are objects. \n",
    "\n",
    "No missing information.\n"
   ]
  },
  {
   "cell_type": "code",
   "execution_count": 7,
   "id": "e8d42920",
   "metadata": {},
   "outputs": [
    {
     "data": {
      "text/plain": [
       "Country                          0\n",
       "Region                           0\n",
       "Happiness Rank                   0\n",
       "Happiness Score                  0\n",
       "Standard Error                   0\n",
       "Economy (GDP per Capita)         0\n",
       "Family                           0\n",
       "Health (Life Expectancy)         0\n",
       "Freedom                          0\n",
       "Trust (Government Corruption)    0\n",
       "Generosity                       0\n",
       "Dystopia Residual                0\n",
       "dtype: int64"
      ]
     },
     "execution_count": 7,
     "metadata": {},
     "output_type": "execute_result"
    }
   ],
   "source": [
    "# Check for missing values\n",
    "world_hap.isnull().sum()"
   ]
  },
  {
   "cell_type": "markdown",
   "id": "4724a231",
   "metadata": {},
   "source": [
    "There are no Null values in the dataset"
   ]
  },
  {
   "cell_type": "code",
   "execution_count": 8,
   "id": "1ef9bec6",
   "metadata": {},
   "outputs": [
    {
     "name": "stdout",
     "output_type": "stream",
     "text": [
      "Categorical Columns:  ['Country', 'Region']\n",
      "\n",
      "\n",
      "Numerical Columns:  ['Happiness Rank', 'Happiness Score', 'Standard Error', 'Economy (GDP per Capita)', 'Family', 'Health (Life Expectancy)', 'Freedom', 'Trust (Government Corruption)', 'Generosity', 'Dystopia Residual']\n"
     ]
    }
   ],
   "source": [
    "#Seperating the data into Categorical and Numerical Columns\n",
    "\n",
    "categorical_col =[]\n",
    "for i in world_hap.dtypes.index:\n",
    "    if world_hap.dtypes[i]=='object':\n",
    "        categorical_col.append(i)\n",
    "print('Categorical Columns: ',categorical_col)\n",
    "print('\\n')\n",
    "\n",
    "\n",
    "numerical_col =[]\n",
    "for i in world_hap.dtypes.index:\n",
    "    if world_hap.dtypes[i]!='object':\n",
    "        numerical_col.append(i)\n",
    "print('Numerical Columns: ',numerical_col)"
   ]
  },
  {
   "cell_type": "code",
   "execution_count": 9,
   "id": "c2101bfa",
   "metadata": {},
   "outputs": [
    {
     "data": {
      "text/html": [
       "<div>\n",
       "<style scoped>\n",
       "    .dataframe tbody tr th:only-of-type {\n",
       "        vertical-align: middle;\n",
       "    }\n",
       "\n",
       "    .dataframe tbody tr th {\n",
       "        vertical-align: top;\n",
       "    }\n",
       "\n",
       "    .dataframe thead th {\n",
       "        text-align: right;\n",
       "    }\n",
       "</style>\n",
       "<table border=\"1\" class=\"dataframe\">\n",
       "  <thead>\n",
       "    <tr style=\"text-align: right;\">\n",
       "      <th></th>\n",
       "      <th>Unique Values</th>\n",
       "    </tr>\n",
       "  </thead>\n",
       "  <tbody>\n",
       "    <tr>\n",
       "      <th>Country</th>\n",
       "      <td>158</td>\n",
       "    </tr>\n",
       "    <tr>\n",
       "      <th>Region</th>\n",
       "      <td>10</td>\n",
       "    </tr>\n",
       "    <tr>\n",
       "      <th>Happiness Rank</th>\n",
       "      <td>157</td>\n",
       "    </tr>\n",
       "    <tr>\n",
       "      <th>Happiness Score</th>\n",
       "      <td>157</td>\n",
       "    </tr>\n",
       "    <tr>\n",
       "      <th>Standard Error</th>\n",
       "      <td>153</td>\n",
       "    </tr>\n",
       "    <tr>\n",
       "      <th>Economy (GDP per Capita)</th>\n",
       "      <td>158</td>\n",
       "    </tr>\n",
       "    <tr>\n",
       "      <th>Family</th>\n",
       "      <td>158</td>\n",
       "    </tr>\n",
       "    <tr>\n",
       "      <th>Health (Life Expectancy)</th>\n",
       "      <td>157</td>\n",
       "    </tr>\n",
       "    <tr>\n",
       "      <th>Freedom</th>\n",
       "      <td>158</td>\n",
       "    </tr>\n",
       "    <tr>\n",
       "      <th>Trust (Government Corruption)</th>\n",
       "      <td>157</td>\n",
       "    </tr>\n",
       "    <tr>\n",
       "      <th>Generosity</th>\n",
       "      <td>158</td>\n",
       "    </tr>\n",
       "    <tr>\n",
       "      <th>Dystopia Residual</th>\n",
       "      <td>158</td>\n",
       "    </tr>\n",
       "  </tbody>\n",
       "</table>\n",
       "</div>"
      ],
      "text/plain": [
       "                               Unique Values\n",
       "Country                                  158\n",
       "Region                                    10\n",
       "Happiness Rank                           157\n",
       "Happiness Score                          157\n",
       "Standard Error                           153\n",
       "Economy (GDP per Capita)                 158\n",
       "Family                                   158\n",
       "Health (Life Expectancy)                 157\n",
       "Freedom                                  158\n",
       "Trust (Government Corruption)            157\n",
       "Generosity                               158\n",
       "Dystopia Residual                        158"
      ]
     },
     "execution_count": 9,
     "metadata": {},
     "output_type": "execute_result"
    }
   ],
   "source": [
    "#Unique values in each of the colums\n",
    "\n",
    "world_hap.nunique().to_frame(\"Unique Values\")"
   ]
  },
  {
   "cell_type": "markdown",
   "id": "d75adbe0",
   "metadata": {},
   "source": [
    "The dataset shows that 'Region' column with 10 unique values  "
   ]
  },
  {
   "cell_type": "code",
   "execution_count": 10,
   "id": "d881b159",
   "metadata": {},
   "outputs": [
    {
     "data": {
      "text/plain": [
       "array(['Western Europe', 'North America', 'Australia and New Zealand',\n",
       "       'Middle East and Northern Africa', 'Latin America and Caribbean',\n",
       "       'Southeastern Asia', 'Central and Eastern Europe', 'Eastern Asia',\n",
       "       'Sub-Saharan Africa', 'Southern Asia'], dtype=object)"
      ]
     },
     "execution_count": 10,
     "metadata": {},
     "output_type": "execute_result"
    }
   ],
   "source": [
    "world_hap['Region'].unique()"
   ]
  },
  {
   "cell_type": "code",
   "execution_count": null,
   "id": "3cc9ea74",
   "metadata": {},
   "outputs": [],
   "source": []
  },
  {
   "cell_type": "markdown",
   "id": "df811aaa",
   "metadata": {},
   "source": [
    "Data Analysis and Visualization:"
   ]
  },
  {
   "cell_type": "code",
   "execution_count": 11,
   "id": "3227bae4",
   "metadata": {},
   "outputs": [
    {
     "name": "stdout",
     "output_type": "stream",
     "text": [
      "Sub-Saharan Africa                 40\n",
      "Central and Eastern Europe         29\n",
      "Latin America and Caribbean        22\n",
      "Western Europe                     21\n",
      "Middle East and Northern Africa    20\n",
      "Southeastern Asia                   9\n",
      "Southern Asia                       7\n",
      "Eastern Asia                        6\n",
      "North America                       2\n",
      "Australia and New Zealand           2\n",
      "Name: Region, dtype: int64\n"
     ]
    },
    {
     "data": {
      "text/plain": [
       "<Axes: xlabel='Region', ylabel='count'>"
      ]
     },
     "execution_count": 11,
     "metadata": {},
     "output_type": "execute_result"
    },
    {
     "data": {
      "image/png": "[encoded data removed]",
      "text/plain": [
       "<Figure size 640x480 with 1 Axes>"
      ]
     },
     "metadata": {},
     "output_type": "display_data"
    }
   ],
   "source": [
    "#Counts by Region participation\n",
    "print(world_hap['Region'].value_counts())\n",
    "sns.countplot(x ='Region', data=world_hap)"
   ]
  },
  {
   "cell_type": "markdown",
   "id": "c341a6c0",
   "metadata": {},
   "source": [
    "Observation:\n",
    "\n",
    "The 'Sub-Saharan Africa region' has the highest counts by region follow by 'Central and Eastern Europe region' while the least region by counts are 'North America' and 'Australia and New Zealand'."
   ]
  },
  {
   "cell_type": "code",
   "execution_count": 12,
   "id": "b8236415",
   "metadata": {},
   "outputs": [
    {
     "data": {
      "text/html": [
       "<div>\n",
       "<style scoped>\n",
       "    .dataframe tbody tr th:only-of-type {\n",
       "        vertical-align: middle;\n",
       "    }\n",
       "\n",
       "    .dataframe tbody tr th {\n",
       "        vertical-align: top;\n",
       "    }\n",
       "\n",
       "    .dataframe thead th {\n",
       "        text-align: right;\n",
       "    }\n",
       "</style>\n",
       "<table border=\"1\" class=\"dataframe\">\n",
       "  <thead>\n",
       "    <tr style=\"text-align: right;\">\n",
       "      <th></th>\n",
       "      <th>Happiness Rank</th>\n",
       "      <th>Happiness Score</th>\n",
       "      <th>Standard Error</th>\n",
       "      <th>Economy (GDP per Capita)</th>\n",
       "      <th>Family</th>\n",
       "      <th>Health (Life Expectancy)</th>\n",
       "      <th>Freedom</th>\n",
       "      <th>Trust (Government Corruption)</th>\n",
       "      <th>Generosity</th>\n",
       "      <th>Dystopia Residual</th>\n",
       "    </tr>\n",
       "  </thead>\n",
       "  <tbody>\n",
       "    <tr>\n",
       "      <th>count</th>\n",
       "      <td>158.000000</td>\n",
       "      <td>158.000000</td>\n",
       "      <td>158.000000</td>\n",
       "      <td>158.000000</td>\n",
       "      <td>158.000000</td>\n",
       "      <td>158.000000</td>\n",
       "      <td>158.000000</td>\n",
       "      <td>158.000000</td>\n",
       "      <td>158.000000</td>\n",
       "      <td>158.000000</td>\n",
       "    </tr>\n",
       "    <tr>\n",
       "      <th>mean</th>\n",
       "      <td>79.493671</td>\n",
       "      <td>5.375734</td>\n",
       "      <td>0.047885</td>\n",
       "      <td>0.846137</td>\n",
       "      <td>0.991046</td>\n",
       "      <td>0.630259</td>\n",
       "      <td>0.428615</td>\n",
       "      <td>0.143422</td>\n",
       "      <td>0.237296</td>\n",
       "      <td>2.098977</td>\n",
       "    </tr>\n",
       "    <tr>\n",
       "      <th>std</th>\n",
       "      <td>45.754363</td>\n",
       "      <td>1.145010</td>\n",
       "      <td>0.017146</td>\n",
       "      <td>0.403121</td>\n",
       "      <td>0.272369</td>\n",
       "      <td>0.247078</td>\n",
       "      <td>0.150693</td>\n",
       "      <td>0.120034</td>\n",
       "      <td>0.126685</td>\n",
       "      <td>0.553550</td>\n",
       "    </tr>\n",
       "    <tr>\n",
       "      <th>min</th>\n",
       "      <td>1.000000</td>\n",
       "      <td>2.839000</td>\n",
       "      <td>0.018480</td>\n",
       "      <td>0.000000</td>\n",
       "      <td>0.000000</td>\n",
       "      <td>0.000000</td>\n",
       "      <td>0.000000</td>\n",
       "      <td>0.000000</td>\n",
       "      <td>0.000000</td>\n",
       "      <td>0.328580</td>\n",
       "    </tr>\n",
       "    <tr>\n",
       "      <th>25%</th>\n",
       "      <td>40.250000</td>\n",
       "      <td>4.526000</td>\n",
       "      <td>0.037268</td>\n",
       "      <td>0.545808</td>\n",
       "      <td>0.856823</td>\n",
       "      <td>0.439185</td>\n",
       "      <td>0.328330</td>\n",
       "      <td>0.061675</td>\n",
       "      <td>0.150553</td>\n",
       "      <td>1.759410</td>\n",
       "    </tr>\n",
       "    <tr>\n",
       "      <th>50%</th>\n",
       "      <td>79.500000</td>\n",
       "      <td>5.232500</td>\n",
       "      <td>0.043940</td>\n",
       "      <td>0.910245</td>\n",
       "      <td>1.029510</td>\n",
       "      <td>0.696705</td>\n",
       "      <td>0.435515</td>\n",
       "      <td>0.107220</td>\n",
       "      <td>0.216130</td>\n",
       "      <td>2.095415</td>\n",
       "    </tr>\n",
       "    <tr>\n",
       "      <th>75%</th>\n",
       "      <td>118.750000</td>\n",
       "      <td>6.243750</td>\n",
       "      <td>0.052300</td>\n",
       "      <td>1.158448</td>\n",
       "      <td>1.214405</td>\n",
       "      <td>0.811013</td>\n",
       "      <td>0.549092</td>\n",
       "      <td>0.180255</td>\n",
       "      <td>0.309883</td>\n",
       "      <td>2.462415</td>\n",
       "    </tr>\n",
       "    <tr>\n",
       "      <th>max</th>\n",
       "      <td>158.000000</td>\n",
       "      <td>7.587000</td>\n",
       "      <td>0.136930</td>\n",
       "      <td>1.690420</td>\n",
       "      <td>1.402230</td>\n",
       "      <td>1.025250</td>\n",
       "      <td>0.669730</td>\n",
       "      <td>0.551910</td>\n",
       "      <td>0.795880</td>\n",
       "      <td>3.602140</td>\n",
       "    </tr>\n",
       "  </tbody>\n",
       "</table>\n",
       "</div>"
      ],
      "text/plain": [
       "       Happiness Rank  Happiness Score  Standard Error  \\\n",
       "count      158.000000       158.000000      158.000000   \n",
       "mean        79.493671         5.375734        0.047885   \n",
       "std         45.754363         1.145010        0.017146   \n",
       "min          1.000000         2.839000        0.018480   \n",
       "25%         40.250000         4.526000        0.037268   \n",
       "50%         79.500000         5.232500        0.043940   \n",
       "75%        118.750000         6.243750        0.052300   \n",
       "max        158.000000         7.587000        0.136930   \n",
       "\n",
       "       Economy (GDP per Capita)      Family  Health (Life Expectancy)  \\\n",
       "count                158.000000  158.000000                158.000000   \n",
       "mean                   0.846137    0.991046                  0.630259   \n",
       "std                    0.403121    0.272369                  0.247078   \n",
       "min                    0.000000    0.000000                  0.000000   \n",
       "25%                    0.545808    0.856823                  0.439185   \n",
       "50%                    0.910245    1.029510                  0.696705   \n",
       "75%                    1.158448    1.214405                  0.811013   \n",
       "max                    1.690420    1.402230                  1.025250   \n",
       "\n",
       "          Freedom  Trust (Government Corruption)  Generosity  \\\n",
       "count  158.000000                     158.000000  158.000000   \n",
       "mean     0.428615                       0.143422    0.237296   \n",
       "std      0.150693                       0.120034    0.126685   \n",
       "min      0.000000                       0.000000    0.000000   \n",
       "25%      0.328330                       0.061675    0.150553   \n",
       "50%      0.435515                       0.107220    0.216130   \n",
       "75%      0.549092                       0.180255    0.309883   \n",
       "max      0.669730                       0.551910    0.795880   \n",
       "\n",
       "       Dystopia Residual  \n",
       "count         158.000000  \n",
       "mean            2.098977  \n",
       "std             0.553550  \n",
       "min             0.328580  \n",
       "25%             1.759410  \n",
       "50%             2.095415  \n",
       "75%             2.462415  \n",
       "max             3.602140  "
      ]
     },
     "execution_count": 12,
     "metadata": {},
     "output_type": "execute_result"
    }
   ],
   "source": [
    "#Statistical interpretation of the Dataset\n",
    "world_hap.describe()"
   ]
  },
  {
   "cell_type": "code",
   "execution_count": null,
   "id": "6d0090bb",
   "metadata": {},
   "outputs": [],
   "source": [
    "\n"
   ]
  },
  {
   "cell_type": "code",
   "execution_count": 13,
   "id": "9b57f01b",
   "metadata": {},
   "outputs": [
    {
     "data": {
      "text/html": [
       "<div>\n",
       "<style scoped>\n",
       "    .dataframe tbody tr th:only-of-type {\n",
       "        vertical-align: middle;\n",
       "    }\n",
       "\n",
       "    .dataframe tbody tr th {\n",
       "        vertical-align: top;\n",
       "    }\n",
       "\n",
       "    .dataframe thead th {\n",
       "        text-align: right;\n",
       "    }\n",
       "</style>\n",
       "<table border=\"1\" class=\"dataframe\">\n",
       "  <thead>\n",
       "    <tr style=\"text-align: right;\">\n",
       "      <th></th>\n",
       "      <th>Happiness Rank</th>\n",
       "      <th>Happiness Score</th>\n",
       "      <th>Standard Error</th>\n",
       "      <th>Economy (GDP per Capita)</th>\n",
       "      <th>Family</th>\n",
       "      <th>Health (Life Expectancy)</th>\n",
       "      <th>Freedom</th>\n",
       "      <th>Trust (Government Corruption)</th>\n",
       "      <th>Generosity</th>\n",
       "      <th>Dystopia Residual</th>\n",
       "    </tr>\n",
       "  </thead>\n",
       "  <tbody>\n",
       "    <tr>\n",
       "      <th>Happiness Rank</th>\n",
       "      <td>1.000000</td>\n",
       "      <td>-0.992105</td>\n",
       "      <td>0.158516</td>\n",
       "      <td>-0.785267</td>\n",
       "      <td>-0.733644</td>\n",
       "      <td>-0.735613</td>\n",
       "      <td>-0.556886</td>\n",
       "      <td>-0.372315</td>\n",
       "      <td>-0.160142</td>\n",
       "      <td>-0.521999</td>\n",
       "    </tr>\n",
       "    <tr>\n",
       "      <th>Happiness Score</th>\n",
       "      <td>-0.992105</td>\n",
       "      <td>1.000000</td>\n",
       "      <td>-0.177254</td>\n",
       "      <td>0.780966</td>\n",
       "      <td>0.740605</td>\n",
       "      <td>0.724200</td>\n",
       "      <td>0.568211</td>\n",
       "      <td>0.395199</td>\n",
       "      <td>0.180319</td>\n",
       "      <td>0.530474</td>\n",
       "    </tr>\n",
       "    <tr>\n",
       "      <th>Standard Error</th>\n",
       "      <td>0.158516</td>\n",
       "      <td>-0.177254</td>\n",
       "      <td>1.000000</td>\n",
       "      <td>-0.217651</td>\n",
       "      <td>-0.120728</td>\n",
       "      <td>-0.310287</td>\n",
       "      <td>-0.129773</td>\n",
       "      <td>-0.178325</td>\n",
       "      <td>-0.088439</td>\n",
       "      <td>0.083981</td>\n",
       "    </tr>\n",
       "    <tr>\n",
       "      <th>Economy (GDP per Capita)</th>\n",
       "      <td>-0.785267</td>\n",
       "      <td>0.780966</td>\n",
       "      <td>-0.217651</td>\n",
       "      <td>1.000000</td>\n",
       "      <td>0.645299</td>\n",
       "      <td>0.816478</td>\n",
       "      <td>0.370300</td>\n",
       "      <td>0.307885</td>\n",
       "      <td>-0.010465</td>\n",
       "      <td>0.040059</td>\n",
       "    </tr>\n",
       "    <tr>\n",
       "      <th>Family</th>\n",
       "      <td>-0.733644</td>\n",
       "      <td>0.740605</td>\n",
       "      <td>-0.120728</td>\n",
       "      <td>0.645299</td>\n",
       "      <td>1.000000</td>\n",
       "      <td>0.531104</td>\n",
       "      <td>0.441518</td>\n",
       "      <td>0.205605</td>\n",
       "      <td>0.087513</td>\n",
       "      <td>0.148117</td>\n",
       "    </tr>\n",
       "    <tr>\n",
       "      <th>Health (Life Expectancy)</th>\n",
       "      <td>-0.735613</td>\n",
       "      <td>0.724200</td>\n",
       "      <td>-0.310287</td>\n",
       "      <td>0.816478</td>\n",
       "      <td>0.531104</td>\n",
       "      <td>1.000000</td>\n",
       "      <td>0.360477</td>\n",
       "      <td>0.248335</td>\n",
       "      <td>0.108335</td>\n",
       "      <td>0.018979</td>\n",
       "    </tr>\n",
       "    <tr>\n",
       "      <th>Freedom</th>\n",
       "      <td>-0.556886</td>\n",
       "      <td>0.568211</td>\n",
       "      <td>-0.129773</td>\n",
       "      <td>0.370300</td>\n",
       "      <td>0.441518</td>\n",
       "      <td>0.360477</td>\n",
       "      <td>1.000000</td>\n",
       "      <td>0.493524</td>\n",
       "      <td>0.373916</td>\n",
       "      <td>0.062783</td>\n",
       "    </tr>\n",
       "    <tr>\n",
       "      <th>Trust (Government Corruption)</th>\n",
       "      <td>-0.372315</td>\n",
       "      <td>0.395199</td>\n",
       "      <td>-0.178325</td>\n",
       "      <td>0.307885</td>\n",
       "      <td>0.205605</td>\n",
       "      <td>0.248335</td>\n",
       "      <td>0.493524</td>\n",
       "      <td>1.000000</td>\n",
       "      <td>0.276123</td>\n",
       "      <td>-0.033105</td>\n",
       "    </tr>\n",
       "    <tr>\n",
       "      <th>Generosity</th>\n",
       "      <td>-0.160142</td>\n",
       "      <td>0.180319</td>\n",
       "      <td>-0.088439</td>\n",
       "      <td>-0.010465</td>\n",
       "      <td>0.087513</td>\n",
       "      <td>0.108335</td>\n",
       "      <td>0.373916</td>\n",
       "      <td>0.276123</td>\n",
       "      <td>1.000000</td>\n",
       "      <td>-0.101301</td>\n",
       "    </tr>\n",
       "    <tr>\n",
       "      <th>Dystopia Residual</th>\n",
       "      <td>-0.521999</td>\n",
       "      <td>0.530474</td>\n",
       "      <td>0.083981</td>\n",
       "      <td>0.040059</td>\n",
       "      <td>0.148117</td>\n",
       "      <td>0.018979</td>\n",
       "      <td>0.062783</td>\n",
       "      <td>-0.033105</td>\n",
       "      <td>-0.101301</td>\n",
       "      <td>1.000000</td>\n",
       "    </tr>\n",
       "  </tbody>\n",
       "</table>\n",
       "</div>"
      ],
      "text/plain": [
       "                               Happiness Rank  Happiness Score  \\\n",
       "Happiness Rank                       1.000000        -0.992105   \n",
       "Happiness Score                     -0.992105         1.000000   \n",
       "Standard Error                       0.158516        -0.177254   \n",
       "Economy (GDP per Capita)            -0.785267         0.780966   \n",
       "Family                              -0.733644         0.740605   \n",
       "Health (Life Expectancy)            -0.735613         0.724200   \n",
       "Freedom                             -0.556886         0.568211   \n",
       "Trust (Government Corruption)       -0.372315         0.395199   \n",
       "Generosity                          -0.160142         0.180319   \n",
       "Dystopia Residual                   -0.521999         0.530474   \n",
       "\n",
       "                               Standard Error  Economy (GDP per Capita)  \\\n",
       "Happiness Rank                       0.158516                 -0.785267   \n",
       "Happiness Score                     -0.177254                  0.780966   \n",
       "Standard Error                       1.000000                 -0.217651   \n",
       "Economy (GDP per Capita)            -0.217651                  1.000000   \n",
       "Family                              -0.120728                  0.645299   \n",
       "Health (Life Expectancy)            -0.310287                  0.816478   \n",
       "Freedom                             -0.129773                  0.370300   \n",
       "Trust (Government Corruption)       -0.178325                  0.307885   \n",
       "Generosity                          -0.088439                 -0.010465   \n",
       "Dystopia Residual                    0.083981                  0.040059   \n",
       "\n",
       "                                 Family  Health (Life Expectancy)   Freedom  \\\n",
       "Happiness Rank                -0.733644                 -0.735613 -0.556886   \n",
       "Happiness Score                0.740605                  0.724200  0.568211   \n",
       "Standard Error                -0.120728                 -0.310287 -0.129773   \n",
       "Economy (GDP per Capita)       0.645299                  0.816478  0.370300   \n",
       "Family                         1.000000                  0.531104  0.441518   \n",
       "Health (Life Expectancy)       0.531104                  1.000000  0.360477   \n",
       "Freedom                        0.441518                  0.360477  1.000000   \n",
       "Trust (Government Corruption)  0.205605                  0.248335  0.493524   \n",
       "Generosity                     0.087513                  0.108335  0.373916   \n",
       "Dystopia Residual              0.148117                  0.018979  0.062783   \n",
       "\n",
       "                               Trust (Government Corruption)  Generosity  \\\n",
       "Happiness Rank                                     -0.372315   -0.160142   \n",
       "Happiness Score                                     0.395199    0.180319   \n",
       "Standard Error                                     -0.178325   -0.088439   \n",
       "Economy (GDP per Capita)                            0.307885   -0.010465   \n",
       "Family                                              0.205605    0.087513   \n",
       "Health (Life Expectancy)                            0.248335    0.108335   \n",
       "Freedom                                             0.493524    0.373916   \n",
       "Trust (Government Corruption)                       1.000000    0.276123   \n",
       "Generosity                                          0.276123    1.000000   \n",
       "Dystopia Residual                                  -0.033105   -0.101301   \n",
       "\n",
       "                               Dystopia Residual  \n",
       "Happiness Rank                         -0.521999  \n",
       "Happiness Score                         0.530474  \n",
       "Standard Error                          0.083981  \n",
       "Economy (GDP per Capita)                0.040059  \n",
       "Family                                  0.148117  \n",
       "Health (Life Expectancy)                0.018979  \n",
       "Freedom                                 0.062783  \n",
       "Trust (Government Corruption)          -0.033105  \n",
       "Generosity                             -0.101301  \n",
       "Dystopia Residual                       1.000000  "
      ]
     },
     "execution_count": 13,
     "metadata": {},
     "output_type": "execute_result"
    }
   ],
   "source": [
    "cor_wor =world_hap.corr()\n",
    "cor_wor"
   ]
  },
  {
   "cell_type": "code",
   "execution_count": 14,
   "id": "bda9ab0b",
   "metadata": {},
   "outputs": [
    {
     "data": {
      "text/plain": [
       "Happiness Score                  1.000000\n",
       "Economy (GDP per Capita)         0.780966\n",
       "Family                           0.740605\n",
       "Health (Life Expectancy)         0.724200\n",
       "Freedom                          0.568211\n",
       "Dystopia Residual                0.530474\n",
       "Trust (Government Corruption)    0.395199\n",
       "Generosity                       0.180319\n",
       "Standard Error                  -0.177254\n",
       "Happiness Rank                  -0.992105\n",
       "Name: Happiness Score, dtype: float64"
      ]
     },
     "execution_count": 14,
     "metadata": {},
     "output_type": "execute_result"
    }
   ],
   "source": [
    "cor_wor['Happiness Score'].sort_values(ascending=False)"
   ]
  },
  {
   "cell_type": "markdown",
   "id": "02ca76f1",
   "metadata": {},
   "source": [
    "The dataset shows that the key variables contributed positive to getting the happiness score while Standard Error and Happiness Rank shows negative correlation with Happiness Score."
   ]
  },
  {
   "cell_type": "code",
   "execution_count": 22,
   "id": "0221e3e5",
   "metadata": {},
   "outputs": [
    {
     "ename": "TypeError",
     "evalue": "'builtin_function_or_method' object is not iterable",
     "output_type": "error",
     "traceback": [
      "\u001b[1;31m---------------------------------------------------------------------------\u001b[0m",
      "\u001b[1;31mTypeError\u001b[0m                                 Traceback (most recent call last)",
      "Cell \u001b[1;32mIn[22], line 18\u001b[0m\n\u001b[0;32m     16\u001b[0m         world_hap[i]\u001b[38;5;241m=\u001b[39m OE\u001b[38;5;241m.\u001b[39mfit_transform(world_hap[[i]])\n\u001b[0;32m     17\u001b[0m         encoded_values \u001b[38;5;241m=\u001b[39m OE\u001b[38;5;241m.\u001b[39mtransform(original_values\u001b[38;5;241m.\u001b[39mreshape(\u001b[38;5;241m-\u001b[39m\u001b[38;5;241m1\u001b[39m, \u001b[38;5;241m1\u001b[39m))\u001b[38;5;241m.\u001b[39mflatten\n\u001b[1;32m---> 18\u001b[0m         mappings[i] \u001b[38;5;241m=\u001b[39m \u001b[38;5;28mdict\u001b[39m(\u001b[38;5;28mzip\u001b[39m(original_values, encoded_values))\n\u001b[0;32m     20\u001b[0m \u001b[38;5;28mprint\u001b[39m(\u001b[38;5;124m'\u001b[39m\u001b[38;5;124mEncode Dataframe:\u001b[39m\u001b[38;5;130;01m\\n\u001b[39;00m\u001b[38;5;124m'\u001b[39m, world_hap)\n\u001b[0;32m     21\u001b[0m \u001b[38;5;28mprint\u001b[39m(\u001b[38;5;124m'\u001b[39m\u001b[38;5;130;01m\\n\u001b[39;00m\u001b[38;5;124mMappings for Each Columns:\u001b[39m\u001b[38;5;130;01m\\n\u001b[39;00m\u001b[38;5;124m'\u001b[39m,)\n",
      "\u001b[1;31mTypeError\u001b[0m: 'builtin_function_or_method' object is not iterable"
     ]
    }
   ],
   "source": [
    "#Encoding the categorical Column\n",
    "\n",
    "from sklearn.preprocessing import OrdinalEncoder\n",
    "\n",
    "#Initialize Ordinal Encoder\n",
    "\n",
    "OE= OrdinalEncoder()\n",
    "\n",
    "\n",
    "mappings = {}\n",
    "\n",
    "#Encoding the categorical Column\n",
    "for i in world_hap.columns:\n",
    "    if world_hap[i].dtypes==\"object\":\n",
    "        original_values= world_hap[i].unique()\n",
    "        world_hap[i]= OE.fit_transform(world_hap[[i]])\n",
    "        encoded_values = OE.transform(original_values.reshape(-1, 1)).flatten\n",
    "        mappings[i] = dict(zip(original_values, encoded_values))\n",
    "\n",
    "print('Encode Dataframe:\\n', world_hap)\n",
    "print('\\nMappings for Each Columns:\\n',)\n",
    "for i, mapping in mappings.items():\n",
    "    print(f'{i} mapping:', mapping)"
   ]
  },
  {
   "cell_type": "code",
   "execution_count": 23,
   "id": "d10f03bd",
   "metadata": {},
   "outputs": [
    {
     "data": {
      "text/plain": [
       "Country                          0.000000\n",
       "Region                          -0.116119\n",
       "Happiness Rank                   0.000418\n",
       "Happiness Score                  0.097769\n",
       "Standard Error                   1.983439\n",
       "Economy (GDP per Capita)        -0.317575\n",
       "Family                          -1.006893\n",
       "Health (Life Expectancy)        -0.705328\n",
       "Freedom                         -0.413462\n",
       "Trust (Government Corruption)    1.385463\n",
       "Generosity                       1.001961\n",
       "Dystopia Residual               -0.238911\n",
       "dtype: float64"
      ]
     },
     "execution_count": 23,
     "metadata": {},
     "output_type": "execute_result"
    }
   ],
   "source": [
    "world_hap.skew()"
   ]
  },
  {
   "cell_type": "markdown",
   "id": "ceecde09",
   "metadata": {},
   "source": [
    "All the columns has been be Converted to Numerical Values"
   ]
  },
  {
   "cell_type": "code",
   "execution_count": 24,
   "id": "67d0d895",
   "metadata": {},
   "outputs": [
    {
     "data": {
      "image/png": "[encoded data removed]",
      "text/plain": [
       "<Figure size 1000x800 with 2 Axes>"
      ]
     },
     "metadata": {},
     "output_type": "display_data"
    }
   ],
   "source": [
    "#find the contribution of each component to the quality of the wine\n",
    "# Plot the heatmap of the correlation matrix\n",
    "plt.figure(figsize=(10, 8))\n",
    "sns.heatmap(world_hap.corr(), annot=True, cmap='coolwarm', fmt='.2f')\n",
    "plt.show()"
   ]
  },
  {
   "cell_type": "code",
   "execution_count": 25,
   "id": "8998918c",
   "metadata": {},
   "outputs": [],
   "source": [
    "# Define input features and target variable\n",
    "x = world_hap.drop([\"Happiness Score\",\"Country\"], axis=1)\n",
    "y= world_hap[\"Happiness Score\"]"
   ]
  },
  {
   "cell_type": "markdown",
   "id": "ca9084da",
   "metadata": {},
   "source": [
    "Dataset Splitting and Training:"
   ]
  },
  {
   "cell_type": "code",
   "execution_count": 26,
   "id": "4eb2139c",
   "metadata": {},
   "outputs": [],
   "source": [
    "#Split the Dataset into train and test data\n",
    "from sklearn.model_selection import train_test_split\n",
    "x_train, x_test, y_train, y_test = train_test_split(x, y, test_size=0.3,  random_state=1)"
   ]
  },
  {
   "cell_type": "markdown",
   "id": "3431884a",
   "metadata": {},
   "source": [
    "# Model Training and Evaluation:"
   ]
  },
  {
   "cell_type": "code",
   "execution_count": 27,
   "id": "a4b6195b",
   "metadata": {},
   "outputs": [],
   "source": [
    "#Import training libraries\n",
    "from sklearn.ensemble import GradientBoostingRegressor\n",
    "from sklearn.linear_model import LogisticRegression\n",
    "from sklearn.ensemble import RandomForestRegressor\n",
    "from sklearn.linear_model import Lasso,Ridge\n",
    "from sklearn.tree import DecisionTreeRegressor\n",
    "from sklearn.neighbors import KNeighborsRegressor\n",
    "from sklearn.metrics import r2_score\n",
    "from sklearn.svm import  SVR"
   ]
  },
  {
   "cell_type": "markdown",
   "id": "487d6ab5",
   "metadata": {},
   "source": [
    "1. Random Forest:"
   ]
  },
  {
   "cell_type": "code",
   "execution_count": 28,
   "id": "bda05082",
   "metadata": {},
   "outputs": [
    {
     "name": "stdout",
     "output_type": "stream",
     "text": [
      "RandomForestRegressor()\n",
      "R2_Score:  99.65966616919219\n",
      "R2_Score on training Data:  99.9024503008463\n",
      "Mean Absolute error:  0.03606000000000025\n",
      "Mean Squared error:  0.003825069212499988\n",
      "Root Mean Squared error:  0.06184714393163186\n"
     ]
    }
   ],
   "source": [
    "#Model Training\n",
    "random_forest = RandomForestRegressor()\n",
    "random_forest.fit(x_train, y_train)\n",
    "pred_random_forest = random_forest.predict(x_test)\n",
    "pred_train = random_forest.predict(x_train)\n",
    "print(random_forest)\n",
    "print(\"R2_Score: \", r2_score(y_test, pred_random_forest)*100)\n",
    "print(\"R2_Score on training Data: \", r2_score(y_train, pred_train)*100)\n",
    "print(\"Mean Absolute error: \", mean_absolute_error(y_test, pred_random_forest))\n",
    "print(\"Mean Squared error: \", mean_squared_error(y_test, pred_random_forest))\n",
    "print(\"Root Mean Squared error: \", np.sqrt(mean_squared_error(y_test, pred_random_forest)))\n"
   ]
  },
  {
   "cell_type": "markdown",
   "id": "59a3acae",
   "metadata": {},
   "source": [
    " 2. K Nearest Neighbor:"
   ]
  },
  {
   "cell_type": "code",
   "execution_count": 29,
   "id": "41a8dc6c",
   "metadata": {},
   "outputs": [
    {
     "name": "stdout",
     "output_type": "stream",
     "text": [
      "KNeighborsRegressor(n_neighbors=3)\n",
      "R2_Score:  99.66430374127182\n",
      "R2_Score on training Data:  99.79030636998574\n",
      "Mean Absolute error:  0.036687499999999984\n",
      "Mean Squared error:  0.003772946759259255\n",
      "Root Mean Squared error:  0.061424317328394096\n"
     ]
    }
   ],
   "source": [
    "knn =KNeighborsRegressor(n_neighbors = 3)\n",
    "knn.fit(x_train, y_train)\n",
    "pred_knn = knn.predict(x_test)\n",
    "pred_train = knn.predict(x_train)\n",
    "print(knn)\n",
    "print(\"R2_Score: \", r2_score(y_test, pred_knn)*100)\n",
    "print(\"R2_Score on training Data: \", r2_score(y_train, pred_train)*100)\n",
    "print(\"Mean Absolute error: \", mean_absolute_error(y_test, pred_knn))\n",
    "print(\"Mean Squared error: \", mean_squared_error(y_test, pred_knn))\n",
    "print(\"Root Mean Squared error: \", np.sqrt(mean_squared_error(y_test, pred_knn)))\n"
   ]
  },
  {
   "cell_type": "markdown",
   "id": "3933a51f",
   "metadata": {},
   "source": [
    "3. Decision Tree:"
   ]
  },
  {
   "cell_type": "code",
   "execution_count": 30,
   "id": "ff796167",
   "metadata": {},
   "outputs": [
    {
     "name": "stdout",
     "output_type": "stream",
     "text": [
      "DecisionTreeRegressor()\n",
      "R2_Score:  99.50663980011498\n",
      "R2_Score on training Data:  100.0\n",
      "Mean Absolute error:  0.05770833333333334\n",
      "Mean Squared error:  0.005544958333333333\n",
      "Root Mean Squared error:  0.07446447698959104\n"
     ]
    }
   ],
   "source": [
    "decision_tree = DecisionTreeRegressor()\n",
    "decision_tree.fit(x_train, y_train)\n",
    "pred_decision_tree = decision_tree.predict(x_test)\n",
    "pred_train = decision_tree.predict(x_train)\n",
    "print(decision_tree)\n",
    "print(\"R2_Score: \", r2_score(y_test, pred_decision_tree)*100)\n",
    "print(\"R2_Score on training Data: \", r2_score(y_train, pred_train)*100)\n",
    "print(\"Mean Absolute error: \", mean_absolute_error(y_test, pred_decision_tree))\n",
    "print(\"Mean Squared error: \", mean_squared_error(y_test, pred_decision_tree))\n",
    "print(\"Root Mean Squared error: \", np.sqrt(mean_squared_error(y_test, pred_decision_tree)))"
   ]
  },
  {
   "cell_type": "markdown",
   "id": "70e80505",
   "metadata": {},
   "source": [
    "4. Logistic Regression:"
   ]
  },
  {
   "cell_type": "code",
   "execution_count": 31,
   "id": "96cf1948",
   "metadata": {},
   "outputs": [
    {
     "name": "stdout",
     "output_type": "stream",
     "text": [
      "LinearRegression()\n",
      "R2_Score:  99.99999351698669\n",
      "R2_Score on training Data:  99.99999436994236\n",
      "Mean Absolute error:  0.00022390711824103274\n",
      "Mean Squared error:  7.286367790058456e-08\n",
      "Root Mean Squared error:  0.0002699327284724558\n"
     ]
    }
   ],
   "source": [
    "logreg = LinearRegression()\n",
    "logreg.fit(x_train, y_train)\n",
    "pred_logreg = logreg.predict(x_test)\n",
    "pred_train = logreg.predict(x_train)\n",
    "print(logreg)\n",
    "print(\"R2_Score: \", r2_score(y_test, pred_logreg)*100)\n",
    "print(\"R2_Score on training Data: \", r2_score(y_train, pred_train)*100)\n",
    "print(\"Mean Absolute error: \", mean_absolute_error(y_test, pred_logreg))\n",
    "print(\"Mean Squared error: \", mean_squared_error(y_test, pred_logreg))\n",
    "print(\"Root Mean Squared error: \", np.sqrt(mean_squared_error(y_test, pred_logreg)))"
   ]
  },
  {
   "cell_type": "markdown",
   "id": "344c9c21",
   "metadata": {},
   "source": [
    "5. Gradient Boosting "
   ]
  },
  {
   "cell_type": "code",
   "execution_count": 32,
   "id": "75a83021",
   "metadata": {},
   "outputs": [
    {
     "name": "stdout",
     "output_type": "stream",
     "text": [
      "GradientBoostingRegressor()\n",
      "R2_Score:  99.86608909305237\n",
      "R2_Score on training Data:  99.99993069888582\n",
      "Mean Absolute error:  0.029482835058465152\n",
      "Mean Squared error:  0.0015050472242725112\n",
      "Root Mean Squared error:  0.038794938126932375\n"
     ]
    }
   ],
   "source": [
    "GBR = GradientBoostingRegressor()\n",
    "GBR.fit(x_train, y_train)\n",
    "pred_GBR = GBR.predict(x_test)\n",
    "pred_train = GBR.predict(x_train)\n",
    "print(GBR)\n",
    "print(\"R2_Score: \", r2_score(y_test, pred_GBR)*100)\n",
    "print(\"R2_Score on training Data: \", r2_score(y_train, pred_train)*100)\n",
    "print(\"Mean Absolute error: \", mean_absolute_error(y_test, pred_GBR))\n",
    "print(\"Mean Squared error: \", mean_squared_error(y_test, pred_GBR))\n",
    "print(\"Root Mean Squared error: \", np.sqrt(mean_squared_error(y_test, pred_GBR)))"
   ]
  },
  {
   "cell_type": "markdown",
   "id": "e3bbe80b",
   "metadata": {},
   "source": [
    "6. Lasso"
   ]
  },
  {
   "cell_type": "code",
   "execution_count": 33,
   "id": "b3026990",
   "metadata": {},
   "outputs": [
    {
     "name": "stdout",
     "output_type": "stream",
     "text": [
      "Lasso()\n",
      "R2_Score:  98.25989192681402\n",
      "R2_Score on training Data:  98.45817968109472\n",
      "Mean Absolute error:  0.10595244979191831\n",
      "Mean Squared error:  0.019557367545177073\n",
      "Root Mean Squared error:  0.13984765834713528\n"
     ]
    }
   ],
   "source": [
    "lass = Lasso()\n",
    "lass.fit(x_train, y_train)\n",
    "pred_lass = lass.predict(x_test)\n",
    "pred_train = lass.predict(x_train)\n",
    "print(lass)\n",
    "print(\"R2_Score: \", r2_score(y_test, pred_lass)*100)\n",
    "print(\"R2_Score on training Data: \", r2_score(y_train, pred_train)*100)\n",
    "print(\"Mean Absolute error: \", mean_absolute_error(y_test, pred_lass))\n",
    "print(\"Mean Squared error: \", mean_squared_error(y_test, pred_lass))\n",
    "print(\"Root Mean Squared error: \", np.sqrt(mean_squared_error(y_test, pred_lass)))"
   ]
  },
  {
   "cell_type": "markdown",
   "id": "ddf9b02f",
   "metadata": {},
   "source": [
    "7. Ridge"
   ]
  },
  {
   "cell_type": "code",
   "execution_count": 34,
   "id": "4dba6df9",
   "metadata": {},
   "outputs": [
    {
     "name": "stdout",
     "output_type": "stream",
     "text": [
      "Ridge()\n",
      "R2_Score:  98.97286337187793\n",
      "R2_Score on training Data:  99.20761629868605\n",
      "Mean Absolute error:  0.08100710504117041\n",
      "Mean Squared error:  0.011544161460338266\n",
      "Root Mean Squared error:  0.10744375952254401\n"
     ]
    }
   ],
   "source": [
    "rid = Ridge()\n",
    "rid .fit(x_train, y_train)\n",
    "pred_rid  = rid .predict(x_test)\n",
    "pred_train = rid .predict(x_train)\n",
    "print(rid )\n",
    "print(\"R2_Score: \", r2_score(y_test, pred_rid )*100)\n",
    "print(\"R2_Score on training Data: \", r2_score(y_train, pred_train)*100)\n",
    "print(\"Mean Absolute error: \", mean_absolute_error(y_test, pred_rid ))\n",
    "print(\"Mean Squared error: \", mean_squared_error(y_test, pred_rid ))\n",
    "print(\"Root Mean Squared error: \", np.sqrt(mean_squared_error(y_test, pred_rid )))"
   ]
  },
  {
   "cell_type": "markdown",
   "id": "95b6a984",
   "metadata": {},
   "source": [
    "8. SVR"
   ]
  },
  {
   "cell_type": "code",
   "execution_count": 35,
   "id": "713f636b",
   "metadata": {},
   "outputs": [
    {
     "name": "stdout",
     "output_type": "stream",
     "text": [
      "SVR()\n",
      "R2_Score:  98.7922491762635\n",
      "R2_Score on training Data:  98.95704648106867\n",
      "Mean Absolute error:  0.06300709489289928\n",
      "Mean Squared error:  0.01357411480745468\n",
      "Root Mean Squared error:  0.11650800319057347\n"
     ]
    }
   ],
   "source": [
    "svr = SVR()\n",
    "svr.fit(x_train, y_train)\n",
    "pred_svr = svr.predict(x_test)\n",
    "pred_train = svr.predict(x_train)\n",
    "print(svr)\n",
    "print(\"R2_Score: \", r2_score(y_test, pred_svr)*100)\n",
    "print(\"R2_Score on training Data: \", r2_score(y_train, pred_train)*100)\n",
    "print(\"Mean Absolute error: \", mean_absolute_error(y_test, pred_svr))\n",
    "print(\"Mean Squared error: \", mean_squared_error(y_test, pred_svr))\n",
    "print(\"Root Mean Squared error: \", np.sqrt(mean_squared_error(y_test, pred_svr)))\n"
   ]
  },
  {
   "cell_type": "markdown",
   "id": "7c01966f",
   "metadata": {},
   "source": [
    "As we can see, Linear Regression has the best R2_score, indicating the best model."
   ]
  },
  {
   "cell_type": "markdown",
   "id": "6b722489",
   "metadata": {},
   "source": [
    "# Final Model:"
   ]
  },
  {
   "cell_type": "code",
   "execution_count": 36,
   "id": "028dd8aa",
   "metadata": {},
   "outputs": [
    {
     "name": "stdout",
     "output_type": "stream",
     "text": [
      "LinearRegression()\n",
      "R2_Score:  99.99999351698669\n",
      "R2_Score on training Data:  99.99999436994236\n",
      "Mean Absolute error:  0.00022390711824103274\n",
      "Mean Squared error:  7.286367790058456e-08\n",
      "Root Mean Squared error:  0.0002699327284724558\n"
     ]
    }
   ],
   "source": [
    "logreg = LinearRegression()\n",
    "logreg.fit(x_train, y_train)\n",
    "pred_logreg = logreg.predict(x_test)\n",
    "pred_train = logreg.predict(x_train)\n",
    "print(logreg)\n",
    "print(\"R2_Score: \", r2_score(y_test, pred_logreg)*100)\n",
    "print(\"R2_Score on training Data: \", r2_score(y_train, pred_train)*100)\n",
    "print(\"Mean Absolute error: \", mean_absolute_error(y_test, pred_logreg))\n",
    "print(\"Mean Squared error: \", mean_squared_error(y_test, pred_logreg))\n",
    "print(\"Root Mean Squared error: \", np.sqrt(mean_squared_error(y_test, pred_logreg)))"
   ]
  },
  {
   "cell_type": "code",
   "execution_count": null,
   "id": "f8a6801f",
   "metadata": {},
   "outputs": [],
   "source": []
  },
  {
   "cell_type": "code",
   "execution_count": 38,
   "id": "d9d79e87",
   "metadata": {},
   "outputs": [
    {
     "name": "stdout",
     "output_type": "stream",
     "text": [
      "Predictions:\n",
      " [6.57404881 4.71476313 7.11947497 5.19228779 4.41920204 6.9014121\n",
      " 5.39863725 7.22570582 6.16762054 4.94864594 4.86711383 5.00701011\n",
      " 4.69397763 4.95935409 5.81256141 5.09755748 6.12279192 5.85526013\n",
      " 5.88901894 3.7807044  5.79059528 6.32880996 3.84498891 7.40603221\n",
      " 4.34996877 6.48514187 6.94618417 5.25277505 4.51780771 5.01312894\n",
      " 4.51430441 2.90450055 4.07677044 5.99507674 4.33211097 5.12414801\n",
      " 5.26797528 4.79952445 6.45458438 3.57458362 5.82827398 4.03298581\n",
      " 4.25197329 7.19975296 5.84763992 4.78788451 6.57499188 5.5482417 ]\n"
     ]
    }
   ],
   "source": [
    "# PREDICTION OF TEST RESULT\n",
    "pred_logreg = logreg.predict(x_test)\n",
    "print('Predictions:\\n', pred_logreg)"
   ]
  },
  {
   "cell_type": "code",
   "execution_count": 39,
   "id": "7fab4301",
   "metadata": {},
   "outputs": [
    {
     "name": "stdout",
     "output_type": "stream",
     "text": [
      "Actual test data vs predicted: \n",
      "      Actual  Predicted\n",
      "29    6.574   6.574049\n",
      "107   4.715   4.714763\n",
      "14    7.119   7.119475\n",
      "81    5.192   5.192288\n",
      "124   4.419   4.419202\n",
      "19    6.901   6.901412\n",
      "73    5.399   5.398637\n",
      "11    7.226   7.225706\n",
      "40    6.168   6.167621\n",
      "95    4.949   4.948646\n",
      "100   4.867   4.867114\n",
      "92    5.007   5.007010\n",
      "108   4.694   4.693978\n",
      "94    4.959   4.959354\n",
      "58    5.813   5.812561\n",
      "88    5.098   5.097557\n",
      "42    6.123   6.122792\n",
      "53    5.855   5.855260\n",
      "51    5.889   5.889019\n",
      "145   3.781   3.780704\n",
      "59    5.791   5.790595\n",
      "35    6.329   6.328810\n",
      "143   3.845   3.844989\n",
      "5     7.406   7.406032\n",
      "126   4.350   4.349969\n",
      "31    6.485   6.485142\n",
      "16    6.946   6.946184\n",
      "78    5.253   5.252775\n",
      "118   4.518   4.517808\n",
      "91    5.013   5.013129\n",
      "120   4.514   4.514304\n",
      "156   2.905   2.904501\n",
      "135   4.077   4.076770\n",
      "44    5.995   5.995077\n",
      "127   4.332   4.332111\n",
      "85    5.124   5.124148\n",
      "77    5.268   5.267975\n",
      "103   4.800   4.799524\n",
      "33    6.455   6.454584\n",
      "152   3.575   3.574584\n",
      "56    5.828   5.828274\n",
      "136   4.033   4.032986\n",
      "132   4.252   4.251973\n",
      "12    7.200   7.199753\n",
      "54    5.848   5.847640\n",
      "104   4.788   4.787885\n",
      "28    6.575   6.574992\n",
      "69    5.548   5.548242\n"
     ]
    }
   ],
   "source": [
    "# COMPARING TEST DATA AND PREDICTED DATA\n",
    "comparison_df = pd.DataFrame({\"Actual\":y_test,\"Predicted\":pred_logreg})\n",
    "print('Actual test data vs predicted: \\n', comparison_df)"
   ]
  },
  {
   "cell_type": "code",
   "execution_count": null,
   "id": "d1f65aa5",
   "metadata": {},
   "outputs": [],
   "source": []
  }
 ],
 "metadata": {
  "kernelspec": {
   "display_name": "Python 3 (ipykernel)",
   "language": "python",
   "name": "python3"
  },
  "language_info": {
   "codemirror_mode": {
    "name": "ipython",
    "version": 3
   },
   "file_extension": ".py",
   "mimetype": "text/x-python",
   "name": "python",
   "nbconvert_exporter": "python",
   "pygments_lexer": "ipython3",
   "version": "3.11.3"
  }
 },
 "nbformat": 4,
 "nbformat_minor": 5
}
